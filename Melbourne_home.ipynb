{
 "cells": [
  {
   "cell_type": "code",
   "execution_count": 1,
   "id": "f0c642eb",
   "metadata": {},
   "outputs": [],
   "source": [
    "import pandas as pd"
   ]
  },
  {
   "cell_type": "code",
   "execution_count": 2,
   "id": "8e63d52e",
   "metadata": {},
   "outputs": [],
   "source": [
    "home_data = pd.read_csv('melbourne_house_prices.csv')"
   ]
  },
  {
   "cell_type": "code",
   "execution_count": 3,
   "id": "70ead012",
   "metadata": {},
   "outputs": [
    {
     "data": {
      "text/html": [
       "<div>\n",
       "<style scoped>\n",
       "    .dataframe tbody tr th:only-of-type {\n",
       "        vertical-align: middle;\n",
       "    }\n",
       "\n",
       "    .dataframe tbody tr th {\n",
       "        vertical-align: top;\n",
       "    }\n",
       "\n",
       "    .dataframe thead th {\n",
       "        text-align: right;\n",
       "    }\n",
       "</style>\n",
       "<table border=\"1\" class=\"dataframe\">\n",
       "  <thead>\n",
       "    <tr style=\"text-align: right;\">\n",
       "      <th></th>\n",
       "      <th>Suburb</th>\n",
       "      <th>Address</th>\n",
       "      <th>Rooms</th>\n",
       "      <th>Type</th>\n",
       "      <th>Price</th>\n",
       "      <th>Method</th>\n",
       "      <th>SellerG</th>\n",
       "      <th>Date</th>\n",
       "      <th>Postcode</th>\n",
       "      <th>Regionname</th>\n",
       "      <th>Propertycount</th>\n",
       "      <th>Distance</th>\n",
       "      <th>CouncilArea</th>\n",
       "    </tr>\n",
       "  </thead>\n",
       "  <tbody>\n",
       "    <tr>\n",
       "      <th>0</th>\n",
       "      <td>Abbotsford</td>\n",
       "      <td>49 Lithgow St</td>\n",
       "      <td>3</td>\n",
       "      <td>h</td>\n",
       "      <td>1490000.0</td>\n",
       "      <td>S</td>\n",
       "      <td>Jellis</td>\n",
       "      <td>1/04/2017</td>\n",
       "      <td>3067</td>\n",
       "      <td>Northern Metropolitan</td>\n",
       "      <td>4019</td>\n",
       "      <td>3.0</td>\n",
       "      <td>Yarra City Council</td>\n",
       "    </tr>\n",
       "    <tr>\n",
       "      <th>1</th>\n",
       "      <td>Abbotsford</td>\n",
       "      <td>59A Turner St</td>\n",
       "      <td>3</td>\n",
       "      <td>h</td>\n",
       "      <td>1220000.0</td>\n",
       "      <td>S</td>\n",
       "      <td>Marshall</td>\n",
       "      <td>1/04/2017</td>\n",
       "      <td>3067</td>\n",
       "      <td>Northern Metropolitan</td>\n",
       "      <td>4019</td>\n",
       "      <td>3.0</td>\n",
       "      <td>Yarra City Council</td>\n",
       "    </tr>\n",
       "    <tr>\n",
       "      <th>2</th>\n",
       "      <td>Abbotsford</td>\n",
       "      <td>119B Yarra St</td>\n",
       "      <td>3</td>\n",
       "      <td>h</td>\n",
       "      <td>1420000.0</td>\n",
       "      <td>S</td>\n",
       "      <td>Nelson</td>\n",
       "      <td>1/04/2017</td>\n",
       "      <td>3067</td>\n",
       "      <td>Northern Metropolitan</td>\n",
       "      <td>4019</td>\n",
       "      <td>3.0</td>\n",
       "      <td>Yarra City Council</td>\n",
       "    </tr>\n",
       "    <tr>\n",
       "      <th>3</th>\n",
       "      <td>Aberfeldie</td>\n",
       "      <td>68 Vida St</td>\n",
       "      <td>3</td>\n",
       "      <td>h</td>\n",
       "      <td>1515000.0</td>\n",
       "      <td>S</td>\n",
       "      <td>Barry</td>\n",
       "      <td>1/04/2017</td>\n",
       "      <td>3040</td>\n",
       "      <td>Western Metropolitan</td>\n",
       "      <td>1543</td>\n",
       "      <td>7.5</td>\n",
       "      <td>Moonee Valley City Council</td>\n",
       "    </tr>\n",
       "    <tr>\n",
       "      <th>4</th>\n",
       "      <td>Airport West</td>\n",
       "      <td>92 Clydesdale Rd</td>\n",
       "      <td>2</td>\n",
       "      <td>h</td>\n",
       "      <td>670000.0</td>\n",
       "      <td>S</td>\n",
       "      <td>Nelson</td>\n",
       "      <td>1/04/2017</td>\n",
       "      <td>3042</td>\n",
       "      <td>Western Metropolitan</td>\n",
       "      <td>3464</td>\n",
       "      <td>10.4</td>\n",
       "      <td>Moonee Valley City Council</td>\n",
       "    </tr>\n",
       "  </tbody>\n",
       "</table>\n",
       "</div>"
      ],
      "text/plain": [
       "         Suburb           Address  Rooms Type      Price Method   SellerG  \\\n",
       "0    Abbotsford     49 Lithgow St      3    h  1490000.0      S    Jellis   \n",
       "1    Abbotsford     59A Turner St      3    h  1220000.0      S  Marshall   \n",
       "2    Abbotsford     119B Yarra St      3    h  1420000.0      S    Nelson   \n",
       "3    Aberfeldie        68 Vida St      3    h  1515000.0      S     Barry   \n",
       "4  Airport West  92 Clydesdale Rd      2    h   670000.0      S    Nelson   \n",
       "\n",
       "        Date  Postcode             Regionname  Propertycount  Distance  \\\n",
       "0  1/04/2017      3067  Northern Metropolitan           4019       3.0   \n",
       "1  1/04/2017      3067  Northern Metropolitan           4019       3.0   \n",
       "2  1/04/2017      3067  Northern Metropolitan           4019       3.0   \n",
       "3  1/04/2017      3040   Western Metropolitan           1543       7.5   \n",
       "4  1/04/2017      3042   Western Metropolitan           3464      10.4   \n",
       "\n",
       "                  CouncilArea  \n",
       "0          Yarra City Council  \n",
       "1          Yarra City Council  \n",
       "2          Yarra City Council  \n",
       "3  Moonee Valley City Council  \n",
       "4  Moonee Valley City Council  "
      ]
     },
     "execution_count": 3,
     "metadata": {},
     "output_type": "execute_result"
    }
   ],
   "source": [
    "home_data.head()"
   ]
  },
  {
   "cell_type": "code",
   "execution_count": 4,
   "id": "61978e5c",
   "metadata": {},
   "outputs": [
    {
     "data": {
      "text/plain": [
       "Index(['Suburb', 'Address', 'Rooms', 'Type', 'Price', 'Method', 'SellerG',\n",
       "       'Date', 'Postcode', 'Regionname', 'Propertycount', 'Distance',\n",
       "       'CouncilArea'],\n",
       "      dtype='object')"
      ]
     },
     "execution_count": 4,
     "metadata": {},
     "output_type": "execute_result"
    }
   ],
   "source": [
    "home_data.columns"
   ]
  },
  {
   "cell_type": "code",
   "execution_count": 7,
   "id": "4f1522ec",
   "metadata": {},
   "outputs": [
    {
     "data": {
      "text/html": [
       "<div>\n",
       "<style scoped>\n",
       "    .dataframe tbody tr th:only-of-type {\n",
       "        vertical-align: middle;\n",
       "    }\n",
       "\n",
       "    .dataframe tbody tr th {\n",
       "        vertical-align: top;\n",
       "    }\n",
       "\n",
       "    .dataframe thead th {\n",
       "        text-align: right;\n",
       "    }\n",
       "</style>\n",
       "<table border=\"1\" class=\"dataframe\">\n",
       "  <thead>\n",
       "    <tr style=\"text-align: right;\">\n",
       "      <th></th>\n",
       "      <th>Rooms</th>\n",
       "      <th>Price</th>\n",
       "      <th>Postcode</th>\n",
       "      <th>Propertycount</th>\n",
       "      <th>Distance</th>\n",
       "    </tr>\n",
       "  </thead>\n",
       "  <tbody>\n",
       "    <tr>\n",
       "      <th>count</th>\n",
       "      <td>63023.000000</td>\n",
       "      <td>4.843300e+04</td>\n",
       "      <td>63023.000000</td>\n",
       "      <td>63023.000000</td>\n",
       "      <td>63023.000000</td>\n",
       "    </tr>\n",
       "    <tr>\n",
       "      <th>mean</th>\n",
       "      <td>3.110595</td>\n",
       "      <td>9.978982e+05</td>\n",
       "      <td>3125.673897</td>\n",
       "      <td>7617.728131</td>\n",
       "      <td>12.684829</td>\n",
       "    </tr>\n",
       "    <tr>\n",
       "      <th>std</th>\n",
       "      <td>0.957551</td>\n",
       "      <td>5.934989e+05</td>\n",
       "      <td>125.626877</td>\n",
       "      <td>4424.423167</td>\n",
       "      <td>7.592015</td>\n",
       "    </tr>\n",
       "    <tr>\n",
       "      <th>min</th>\n",
       "      <td>1.000000</td>\n",
       "      <td>8.500000e+04</td>\n",
       "      <td>3000.000000</td>\n",
       "      <td>39.000000</td>\n",
       "      <td>0.000000</td>\n",
       "    </tr>\n",
       "    <tr>\n",
       "      <th>25%</th>\n",
       "      <td>3.000000</td>\n",
       "      <td>6.200000e+05</td>\n",
       "      <td>3056.000000</td>\n",
       "      <td>4380.000000</td>\n",
       "      <td>7.000000</td>\n",
       "    </tr>\n",
       "    <tr>\n",
       "      <th>50%</th>\n",
       "      <td>3.000000</td>\n",
       "      <td>8.300000e+05</td>\n",
       "      <td>3107.000000</td>\n",
       "      <td>6795.000000</td>\n",
       "      <td>11.400000</td>\n",
       "    </tr>\n",
       "    <tr>\n",
       "      <th>75%</th>\n",
       "      <td>4.000000</td>\n",
       "      <td>1.220000e+06</td>\n",
       "      <td>3163.000000</td>\n",
       "      <td>10412.000000</td>\n",
       "      <td>16.700000</td>\n",
       "    </tr>\n",
       "    <tr>\n",
       "      <th>max</th>\n",
       "      <td>31.000000</td>\n",
       "      <td>1.120000e+07</td>\n",
       "      <td>3980.000000</td>\n",
       "      <td>21650.000000</td>\n",
       "      <td>64.100000</td>\n",
       "    </tr>\n",
       "  </tbody>\n",
       "</table>\n",
       "</div>"
      ],
      "text/plain": [
       "              Rooms         Price      Postcode  Propertycount      Distance\n",
       "count  63023.000000  4.843300e+04  63023.000000   63023.000000  63023.000000\n",
       "mean       3.110595  9.978982e+05   3125.673897    7617.728131     12.684829\n",
       "std        0.957551  5.934989e+05    125.626877    4424.423167      7.592015\n",
       "min        1.000000  8.500000e+04   3000.000000      39.000000      0.000000\n",
       "25%        3.000000  6.200000e+05   3056.000000    4380.000000      7.000000\n",
       "50%        3.000000  8.300000e+05   3107.000000    6795.000000     11.400000\n",
       "75%        4.000000  1.220000e+06   3163.000000   10412.000000     16.700000\n",
       "max       31.000000  1.120000e+07   3980.000000   21650.000000     64.100000"
      ]
     },
     "execution_count": 7,
     "metadata": {},
     "output_type": "execute_result"
    }
   ],
   "source": [
    "home_data.describe()"
   ]
  },
  {
   "cell_type": "code",
   "execution_count": 6,
   "id": "43f6b129",
   "metadata": {},
   "outputs": [
    {
     "data": {
      "text/html": [
       "<div>\n",
       "<style scoped>\n",
       "    .dataframe tbody tr th:only-of-type {\n",
       "        vertical-align: middle;\n",
       "    }\n",
       "\n",
       "    .dataframe tbody tr th {\n",
       "        vertical-align: top;\n",
       "    }\n",
       "\n",
       "    .dataframe thead th {\n",
       "        text-align: right;\n",
       "    }\n",
       "</style>\n",
       "<table border=\"1\" class=\"dataframe\">\n",
       "  <thead>\n",
       "    <tr style=\"text-align: right;\">\n",
       "      <th></th>\n",
       "      <th>Suburb</th>\n",
       "      <th>Address</th>\n",
       "      <th>Rooms</th>\n",
       "      <th>Type</th>\n",
       "      <th>Price</th>\n",
       "      <th>Method</th>\n",
       "      <th>SellerG</th>\n",
       "      <th>Date</th>\n",
       "      <th>Postcode</th>\n",
       "      <th>Regionname</th>\n",
       "      <th>Propertycount</th>\n",
       "      <th>Distance</th>\n",
       "      <th>CouncilArea</th>\n",
       "    </tr>\n",
       "  </thead>\n",
       "  <tbody>\n",
       "    <tr>\n",
       "      <th>0</th>\n",
       "      <td>Abbotsford</td>\n",
       "      <td>49 Lithgow St</td>\n",
       "      <td>3</td>\n",
       "      <td>h</td>\n",
       "      <td>1490000.0</td>\n",
       "      <td>S</td>\n",
       "      <td>Jellis</td>\n",
       "      <td>1/04/2017</td>\n",
       "      <td>3067</td>\n",
       "      <td>Northern Metropolitan</td>\n",
       "      <td>4019</td>\n",
       "      <td>3.0</td>\n",
       "      <td>Yarra City Council</td>\n",
       "    </tr>\n",
       "    <tr>\n",
       "      <th>1</th>\n",
       "      <td>Abbotsford</td>\n",
       "      <td>59A Turner St</td>\n",
       "      <td>3</td>\n",
       "      <td>h</td>\n",
       "      <td>1220000.0</td>\n",
       "      <td>S</td>\n",
       "      <td>Marshall</td>\n",
       "      <td>1/04/2017</td>\n",
       "      <td>3067</td>\n",
       "      <td>Northern Metropolitan</td>\n",
       "      <td>4019</td>\n",
       "      <td>3.0</td>\n",
       "      <td>Yarra City Council</td>\n",
       "    </tr>\n",
       "    <tr>\n",
       "      <th>2</th>\n",
       "      <td>Abbotsford</td>\n",
       "      <td>119B Yarra St</td>\n",
       "      <td>3</td>\n",
       "      <td>h</td>\n",
       "      <td>1420000.0</td>\n",
       "      <td>S</td>\n",
       "      <td>Nelson</td>\n",
       "      <td>1/04/2017</td>\n",
       "      <td>3067</td>\n",
       "      <td>Northern Metropolitan</td>\n",
       "      <td>4019</td>\n",
       "      <td>3.0</td>\n",
       "      <td>Yarra City Council</td>\n",
       "    </tr>\n",
       "    <tr>\n",
       "      <th>3</th>\n",
       "      <td>Aberfeldie</td>\n",
       "      <td>68 Vida St</td>\n",
       "      <td>3</td>\n",
       "      <td>h</td>\n",
       "      <td>1515000.0</td>\n",
       "      <td>S</td>\n",
       "      <td>Barry</td>\n",
       "      <td>1/04/2017</td>\n",
       "      <td>3040</td>\n",
       "      <td>Western Metropolitan</td>\n",
       "      <td>1543</td>\n",
       "      <td>7.5</td>\n",
       "      <td>Moonee Valley City Council</td>\n",
       "    </tr>\n",
       "    <tr>\n",
       "      <th>4</th>\n",
       "      <td>Airport West</td>\n",
       "      <td>92 Clydesdale Rd</td>\n",
       "      <td>2</td>\n",
       "      <td>h</td>\n",
       "      <td>670000.0</td>\n",
       "      <td>S</td>\n",
       "      <td>Nelson</td>\n",
       "      <td>1/04/2017</td>\n",
       "      <td>3042</td>\n",
       "      <td>Western Metropolitan</td>\n",
       "      <td>3464</td>\n",
       "      <td>10.4</td>\n",
       "      <td>Moonee Valley City Council</td>\n",
       "    </tr>\n",
       "    <tr>\n",
       "      <th>...</th>\n",
       "      <td>...</td>\n",
       "      <td>...</td>\n",
       "      <td>...</td>\n",
       "      <td>...</td>\n",
       "      <td>...</td>\n",
       "      <td>...</td>\n",
       "      <td>...</td>\n",
       "      <td>...</td>\n",
       "      <td>...</td>\n",
       "      <td>...</td>\n",
       "      <td>...</td>\n",
       "      <td>...</td>\n",
       "      <td>...</td>\n",
       "    </tr>\n",
       "    <tr>\n",
       "      <th>63016</th>\n",
       "      <td>Frankston</td>\n",
       "      <td>4/34 Petrie St</td>\n",
       "      <td>2</td>\n",
       "      <td>u</td>\n",
       "      <td>347700.0</td>\n",
       "      <td>SP</td>\n",
       "      <td>Aquire</td>\n",
       "      <td>31/03/2018</td>\n",
       "      <td>3199</td>\n",
       "      <td>South-Eastern Metropolitan</td>\n",
       "      <td>17055</td>\n",
       "      <td>38.0</td>\n",
       "      <td>Frankston City Council</td>\n",
       "    </tr>\n",
       "    <tr>\n",
       "      <th>63017</th>\n",
       "      <td>Preston</td>\n",
       "      <td>229 Murray Rd</td>\n",
       "      <td>3</td>\n",
       "      <td>h</td>\n",
       "      <td>808000.0</td>\n",
       "      <td>S</td>\n",
       "      <td>RW</td>\n",
       "      <td>31/03/2018</td>\n",
       "      <td>3072</td>\n",
       "      <td>Northern Metropolitan</td>\n",
       "      <td>14577</td>\n",
       "      <td>8.4</td>\n",
       "      <td>Darebin City Council</td>\n",
       "    </tr>\n",
       "    <tr>\n",
       "      <th>63018</th>\n",
       "      <td>Roxburgh Park</td>\n",
       "      <td>3 Carr Pl</td>\n",
       "      <td>3</td>\n",
       "      <td>h</td>\n",
       "      <td>566000.0</td>\n",
       "      <td>S</td>\n",
       "      <td>Raine</td>\n",
       "      <td>31/03/2018</td>\n",
       "      <td>3064</td>\n",
       "      <td>Northern Metropolitan</td>\n",
       "      <td>5833</td>\n",
       "      <td>20.6</td>\n",
       "      <td>Hume City Council</td>\n",
       "    </tr>\n",
       "    <tr>\n",
       "      <th>63019</th>\n",
       "      <td>Roxburgh Park</td>\n",
       "      <td>9 Parker Ct</td>\n",
       "      <td>3</td>\n",
       "      <td>h</td>\n",
       "      <td>500000.0</td>\n",
       "      <td>S</td>\n",
       "      <td>Raine</td>\n",
       "      <td>31/03/2018</td>\n",
       "      <td>3064</td>\n",
       "      <td>Northern Metropolitan</td>\n",
       "      <td>5833</td>\n",
       "      <td>20.6</td>\n",
       "      <td>Hume City Council</td>\n",
       "    </tr>\n",
       "    <tr>\n",
       "      <th>63020</th>\n",
       "      <td>Roxburgh Park</td>\n",
       "      <td>5 Parkinson Wy</td>\n",
       "      <td>3</td>\n",
       "      <td>h</td>\n",
       "      <td>545000.0</td>\n",
       "      <td>S</td>\n",
       "      <td>Raine</td>\n",
       "      <td>31/03/2018</td>\n",
       "      <td>3064</td>\n",
       "      <td>Northern Metropolitan</td>\n",
       "      <td>5833</td>\n",
       "      <td>20.6</td>\n",
       "      <td>Hume City Council</td>\n",
       "    </tr>\n",
       "  </tbody>\n",
       "</table>\n",
       "<p>48433 rows × 13 columns</p>\n",
       "</div>"
      ],
      "text/plain": [
       "              Suburb           Address  Rooms Type      Price Method  \\\n",
       "0         Abbotsford     49 Lithgow St      3    h  1490000.0      S   \n",
       "1         Abbotsford     59A Turner St      3    h  1220000.0      S   \n",
       "2         Abbotsford     119B Yarra St      3    h  1420000.0      S   \n",
       "3         Aberfeldie        68 Vida St      3    h  1515000.0      S   \n",
       "4       Airport West  92 Clydesdale Rd      2    h   670000.0      S   \n",
       "...              ...               ...    ...  ...        ...    ...   \n",
       "63016      Frankston    4/34 Petrie St      2    u   347700.0     SP   \n",
       "63017        Preston     229 Murray Rd      3    h   808000.0      S   \n",
       "63018  Roxburgh Park         3 Carr Pl      3    h   566000.0      S   \n",
       "63019  Roxburgh Park       9 Parker Ct      3    h   500000.0      S   \n",
       "63020  Roxburgh Park    5 Parkinson Wy      3    h   545000.0      S   \n",
       "\n",
       "        SellerG        Date  Postcode                  Regionname  \\\n",
       "0        Jellis   1/04/2017      3067       Northern Metropolitan   \n",
       "1      Marshall   1/04/2017      3067       Northern Metropolitan   \n",
       "2        Nelson   1/04/2017      3067       Northern Metropolitan   \n",
       "3         Barry   1/04/2017      3040        Western Metropolitan   \n",
       "4        Nelson   1/04/2017      3042        Western Metropolitan   \n",
       "...         ...         ...       ...                         ...   \n",
       "63016    Aquire  31/03/2018      3199  South-Eastern Metropolitan   \n",
       "63017        RW  31/03/2018      3072       Northern Metropolitan   \n",
       "63018     Raine  31/03/2018      3064       Northern Metropolitan   \n",
       "63019     Raine  31/03/2018      3064       Northern Metropolitan   \n",
       "63020     Raine  31/03/2018      3064       Northern Metropolitan   \n",
       "\n",
       "       Propertycount  Distance                 CouncilArea  \n",
       "0               4019       3.0          Yarra City Council  \n",
       "1               4019       3.0          Yarra City Council  \n",
       "2               4019       3.0          Yarra City Council  \n",
       "3               1543       7.5  Moonee Valley City Council  \n",
       "4               3464      10.4  Moonee Valley City Council  \n",
       "...              ...       ...                         ...  \n",
       "63016          17055      38.0      Frankston City Council  \n",
       "63017          14577       8.4        Darebin City Council  \n",
       "63018           5833      20.6           Hume City Council  \n",
       "63019           5833      20.6           Hume City Council  \n",
       "63020           5833      20.6           Hume City Council  \n",
       "\n",
       "[48433 rows x 13 columns]"
      ]
     },
     "execution_count": 6,
     "metadata": {},
     "output_type": "execute_result"
    }
   ],
   "source": [
    "home_data.dropna(axis=0)"
   ]
  },
  {
   "cell_type": "code",
   "execution_count": 8,
   "id": "36779aff",
   "metadata": {},
   "outputs": [
    {
     "data": {
      "text/html": [
       "<div>\n",
       "<style scoped>\n",
       "    .dataframe tbody tr th:only-of-type {\n",
       "        vertical-align: middle;\n",
       "    }\n",
       "\n",
       "    .dataframe tbody tr th {\n",
       "        vertical-align: top;\n",
       "    }\n",
       "\n",
       "    .dataframe thead th {\n",
       "        text-align: right;\n",
       "    }\n",
       "</style>\n",
       "<table border=\"1\" class=\"dataframe\">\n",
       "  <thead>\n",
       "    <tr style=\"text-align: right;\">\n",
       "      <th></th>\n",
       "      <th>Suburb</th>\n",
       "      <th>Address</th>\n",
       "      <th>Rooms</th>\n",
       "      <th>Type</th>\n",
       "      <th>Price</th>\n",
       "      <th>Method</th>\n",
       "      <th>SellerG</th>\n",
       "      <th>Date</th>\n",
       "      <th>Postcode</th>\n",
       "      <th>Regionname</th>\n",
       "      <th>Propertycount</th>\n",
       "      <th>Distance</th>\n",
       "      <th>CouncilArea</th>\n",
       "    </tr>\n",
       "  </thead>\n",
       "  <tbody>\n",
       "    <tr>\n",
       "      <th>0</th>\n",
       "      <td>Abbotsford</td>\n",
       "      <td>49 Lithgow St</td>\n",
       "      <td>3</td>\n",
       "      <td>h</td>\n",
       "      <td>1490000.0</td>\n",
       "      <td>S</td>\n",
       "      <td>Jellis</td>\n",
       "      <td>1/04/2017</td>\n",
       "      <td>3067</td>\n",
       "      <td>Northern Metropolitan</td>\n",
       "      <td>4019</td>\n",
       "      <td>3.0</td>\n",
       "      <td>Yarra City Council</td>\n",
       "    </tr>\n",
       "    <tr>\n",
       "      <th>1</th>\n",
       "      <td>Abbotsford</td>\n",
       "      <td>59A Turner St</td>\n",
       "      <td>3</td>\n",
       "      <td>h</td>\n",
       "      <td>1220000.0</td>\n",
       "      <td>S</td>\n",
       "      <td>Marshall</td>\n",
       "      <td>1/04/2017</td>\n",
       "      <td>3067</td>\n",
       "      <td>Northern Metropolitan</td>\n",
       "      <td>4019</td>\n",
       "      <td>3.0</td>\n",
       "      <td>Yarra City Council</td>\n",
       "    </tr>\n",
       "    <tr>\n",
       "      <th>2</th>\n",
       "      <td>Abbotsford</td>\n",
       "      <td>119B Yarra St</td>\n",
       "      <td>3</td>\n",
       "      <td>h</td>\n",
       "      <td>1420000.0</td>\n",
       "      <td>S</td>\n",
       "      <td>Nelson</td>\n",
       "      <td>1/04/2017</td>\n",
       "      <td>3067</td>\n",
       "      <td>Northern Metropolitan</td>\n",
       "      <td>4019</td>\n",
       "      <td>3.0</td>\n",
       "      <td>Yarra City Council</td>\n",
       "    </tr>\n",
       "    <tr>\n",
       "      <th>3</th>\n",
       "      <td>Aberfeldie</td>\n",
       "      <td>68 Vida St</td>\n",
       "      <td>3</td>\n",
       "      <td>h</td>\n",
       "      <td>1515000.0</td>\n",
       "      <td>S</td>\n",
       "      <td>Barry</td>\n",
       "      <td>1/04/2017</td>\n",
       "      <td>3040</td>\n",
       "      <td>Western Metropolitan</td>\n",
       "      <td>1543</td>\n",
       "      <td>7.5</td>\n",
       "      <td>Moonee Valley City Council</td>\n",
       "    </tr>\n",
       "    <tr>\n",
       "      <th>4</th>\n",
       "      <td>Airport West</td>\n",
       "      <td>92 Clydesdale Rd</td>\n",
       "      <td>2</td>\n",
       "      <td>h</td>\n",
       "      <td>670000.0</td>\n",
       "      <td>S</td>\n",
       "      <td>Nelson</td>\n",
       "      <td>1/04/2017</td>\n",
       "      <td>3042</td>\n",
       "      <td>Western Metropolitan</td>\n",
       "      <td>3464</td>\n",
       "      <td>10.4</td>\n",
       "      <td>Moonee Valley City Council</td>\n",
       "    </tr>\n",
       "    <tr>\n",
       "      <th>...</th>\n",
       "      <td>...</td>\n",
       "      <td>...</td>\n",
       "      <td>...</td>\n",
       "      <td>...</td>\n",
       "      <td>...</td>\n",
       "      <td>...</td>\n",
       "      <td>...</td>\n",
       "      <td>...</td>\n",
       "      <td>...</td>\n",
       "      <td>...</td>\n",
       "      <td>...</td>\n",
       "      <td>...</td>\n",
       "      <td>...</td>\n",
       "    </tr>\n",
       "    <tr>\n",
       "      <th>63018</th>\n",
       "      <td>Roxburgh Park</td>\n",
       "      <td>3 Carr Pl</td>\n",
       "      <td>3</td>\n",
       "      <td>h</td>\n",
       "      <td>566000.0</td>\n",
       "      <td>S</td>\n",
       "      <td>Raine</td>\n",
       "      <td>31/03/2018</td>\n",
       "      <td>3064</td>\n",
       "      <td>Northern Metropolitan</td>\n",
       "      <td>5833</td>\n",
       "      <td>20.6</td>\n",
       "      <td>Hume City Council</td>\n",
       "    </tr>\n",
       "    <tr>\n",
       "      <th>63019</th>\n",
       "      <td>Roxburgh Park</td>\n",
       "      <td>9 Parker Ct</td>\n",
       "      <td>3</td>\n",
       "      <td>h</td>\n",
       "      <td>500000.0</td>\n",
       "      <td>S</td>\n",
       "      <td>Raine</td>\n",
       "      <td>31/03/2018</td>\n",
       "      <td>3064</td>\n",
       "      <td>Northern Metropolitan</td>\n",
       "      <td>5833</td>\n",
       "      <td>20.6</td>\n",
       "      <td>Hume City Council</td>\n",
       "    </tr>\n",
       "    <tr>\n",
       "      <th>63020</th>\n",
       "      <td>Roxburgh Park</td>\n",
       "      <td>5 Parkinson Wy</td>\n",
       "      <td>3</td>\n",
       "      <td>h</td>\n",
       "      <td>545000.0</td>\n",
       "      <td>S</td>\n",
       "      <td>Raine</td>\n",
       "      <td>31/03/2018</td>\n",
       "      <td>3064</td>\n",
       "      <td>Northern Metropolitan</td>\n",
       "      <td>5833</td>\n",
       "      <td>20.6</td>\n",
       "      <td>Hume City Council</td>\n",
       "    </tr>\n",
       "    <tr>\n",
       "      <th>63021</th>\n",
       "      <td>Thomastown</td>\n",
       "      <td>3/1 Travers St</td>\n",
       "      <td>3</td>\n",
       "      <td>u</td>\n",
       "      <td>545000.0</td>\n",
       "      <td>PI</td>\n",
       "      <td>Barry</td>\n",
       "      <td>31/03/2018</td>\n",
       "      <td>3074</td>\n",
       "      <td>Northern Metropolitan</td>\n",
       "      <td>7955</td>\n",
       "      <td>15.3</td>\n",
       "      <td>Whittlesea City Council</td>\n",
       "    </tr>\n",
       "    <tr>\n",
       "      <th>63022</th>\n",
       "      <td>Williams Landing</td>\n",
       "      <td>1 Diadem Wy</td>\n",
       "      <td>4</td>\n",
       "      <td>h</td>\n",
       "      <td>545000.0</td>\n",
       "      <td>SP</td>\n",
       "      <td>Aussie</td>\n",
       "      <td>31/03/2018</td>\n",
       "      <td>3027</td>\n",
       "      <td>Western Metropolitan</td>\n",
       "      <td>1999</td>\n",
       "      <td>17.6</td>\n",
       "      <td>Wyndham City Council</td>\n",
       "    </tr>\n",
       "  </tbody>\n",
       "</table>\n",
       "<p>63023 rows × 13 columns</p>\n",
       "</div>"
      ],
      "text/plain": [
       "                 Suburb           Address  Rooms Type      Price Method  \\\n",
       "0            Abbotsford     49 Lithgow St      3    h  1490000.0      S   \n",
       "1            Abbotsford     59A Turner St      3    h  1220000.0      S   \n",
       "2            Abbotsford     119B Yarra St      3    h  1420000.0      S   \n",
       "3            Aberfeldie        68 Vida St      3    h  1515000.0      S   \n",
       "4          Airport West  92 Clydesdale Rd      2    h   670000.0      S   \n",
       "...                 ...               ...    ...  ...        ...    ...   \n",
       "63018     Roxburgh Park         3 Carr Pl      3    h   566000.0      S   \n",
       "63019     Roxburgh Park       9 Parker Ct      3    h   500000.0      S   \n",
       "63020     Roxburgh Park    5 Parkinson Wy      3    h   545000.0      S   \n",
       "63021        Thomastown    3/1 Travers St      3    u   545000.0     PI   \n",
       "63022  Williams Landing       1 Diadem Wy      4    h   545000.0     SP   \n",
       "\n",
       "        SellerG        Date  Postcode             Regionname  Propertycount  \\\n",
       "0        Jellis   1/04/2017      3067  Northern Metropolitan           4019   \n",
       "1      Marshall   1/04/2017      3067  Northern Metropolitan           4019   \n",
       "2        Nelson   1/04/2017      3067  Northern Metropolitan           4019   \n",
       "3         Barry   1/04/2017      3040   Western Metropolitan           1543   \n",
       "4        Nelson   1/04/2017      3042   Western Metropolitan           3464   \n",
       "...         ...         ...       ...                    ...            ...   \n",
       "63018     Raine  31/03/2018      3064  Northern Metropolitan           5833   \n",
       "63019     Raine  31/03/2018      3064  Northern Metropolitan           5833   \n",
       "63020     Raine  31/03/2018      3064  Northern Metropolitan           5833   \n",
       "63021     Barry  31/03/2018      3074  Northern Metropolitan           7955   \n",
       "63022    Aussie  31/03/2018      3027   Western Metropolitan           1999   \n",
       "\n",
       "       Distance                 CouncilArea  \n",
       "0           3.0          Yarra City Council  \n",
       "1           3.0          Yarra City Council  \n",
       "2           3.0          Yarra City Council  \n",
       "3           7.5  Moonee Valley City Council  \n",
       "4          10.4  Moonee Valley City Council  \n",
       "...         ...                         ...  \n",
       "63018      20.6           Hume City Council  \n",
       "63019      20.6           Hume City Council  \n",
       "63020      20.6           Hume City Council  \n",
       "63021      15.3     Whittlesea City Council  \n",
       "63022      17.6        Wyndham City Council  \n",
       "\n",
       "[63023 rows x 13 columns]"
      ]
     },
     "execution_count": 8,
     "metadata": {},
     "output_type": "execute_result"
    }
   ],
   "source": [
    "home_data.fillna(method=\"ffill\")"
   ]
  },
  {
   "cell_type": "code",
   "execution_count": 10,
   "id": "aa4ca881",
   "metadata": {},
   "outputs": [],
   "source": [
    "y = home_data.Rooms"
   ]
  },
  {
   "cell_type": "code",
   "execution_count": 11,
   "id": "1ebfde45",
   "metadata": {},
   "outputs": [],
   "source": [
    "features = ['Propertycount','Postcode','Distance']"
   ]
  },
  {
   "cell_type": "code",
   "execution_count": 12,
   "id": "f9d0e453",
   "metadata": {},
   "outputs": [],
   "source": [
    "X = home_data[features]"
   ]
  },
  {
   "cell_type": "code",
   "execution_count": 13,
   "id": "3e3f04ef",
   "metadata": {},
   "outputs": [
    {
     "data": {
      "text/html": [
       "<div>\n",
       "<style scoped>\n",
       "    .dataframe tbody tr th:only-of-type {\n",
       "        vertical-align: middle;\n",
       "    }\n",
       "\n",
       "    .dataframe tbody tr th {\n",
       "        vertical-align: top;\n",
       "    }\n",
       "\n",
       "    .dataframe thead th {\n",
       "        text-align: right;\n",
       "    }\n",
       "</style>\n",
       "<table border=\"1\" class=\"dataframe\">\n",
       "  <thead>\n",
       "    <tr style=\"text-align: right;\">\n",
       "      <th></th>\n",
       "      <th>Propertycount</th>\n",
       "      <th>Postcode</th>\n",
       "      <th>Distance</th>\n",
       "    </tr>\n",
       "  </thead>\n",
       "  <tbody>\n",
       "    <tr>\n",
       "      <th>0</th>\n",
       "      <td>4019</td>\n",
       "      <td>3067</td>\n",
       "      <td>3.0</td>\n",
       "    </tr>\n",
       "    <tr>\n",
       "      <th>1</th>\n",
       "      <td>4019</td>\n",
       "      <td>3067</td>\n",
       "      <td>3.0</td>\n",
       "    </tr>\n",
       "    <tr>\n",
       "      <th>2</th>\n",
       "      <td>4019</td>\n",
       "      <td>3067</td>\n",
       "      <td>3.0</td>\n",
       "    </tr>\n",
       "    <tr>\n",
       "      <th>3</th>\n",
       "      <td>1543</td>\n",
       "      <td>3040</td>\n",
       "      <td>7.5</td>\n",
       "    </tr>\n",
       "    <tr>\n",
       "      <th>4</th>\n",
       "      <td>3464</td>\n",
       "      <td>3042</td>\n",
       "      <td>10.4</td>\n",
       "    </tr>\n",
       "  </tbody>\n",
       "</table>\n",
       "</div>"
      ],
      "text/plain": [
       "   Propertycount  Postcode  Distance\n",
       "0           4019      3067       3.0\n",
       "1           4019      3067       3.0\n",
       "2           4019      3067       3.0\n",
       "3           1543      3040       7.5\n",
       "4           3464      3042      10.4"
      ]
     },
     "execution_count": 13,
     "metadata": {},
     "output_type": "execute_result"
    }
   ],
   "source": [
    "X.head()"
   ]
  },
  {
   "cell_type": "code",
   "execution_count": null,
   "id": "e58ce337",
   "metadata": {},
   "outputs": [],
   "source": []
  },
  {
   "cell_type": "code",
   "execution_count": null,
   "id": "1f3e5462",
   "metadata": {},
   "outputs": [],
   "source": []
  },
  {
   "cell_type": "code",
   "execution_count": 14,
   "id": "d7b8d2e3",
   "metadata": {},
   "outputs": [],
   "source": [
    "from sklearn.tree import DecisionTreeRegressor\n",
    "from sklearn.model_selection import train_test_split"
   ]
  },
  {
   "cell_type": "code",
   "execution_count": 15,
   "id": "ce4293bc",
   "metadata": {},
   "outputs": [],
   "source": [
    "train_X, test_X, train_y, test_y = train_test_split(X, y, random_state = 1)"
   ]
  },
  {
   "cell_type": "code",
   "execution_count": 16,
   "id": "4b8cb454",
   "metadata": {},
   "outputs": [],
   "source": [
    "house_model = DecisionTreeRegressor(random_state = 1)"
   ]
  },
  {
   "cell_type": "code",
   "execution_count": 17,
   "id": "936d356e",
   "metadata": {},
   "outputs": [
    {
     "data": {
      "text/plain": [
       "DecisionTreeRegressor(random_state=1)"
      ]
     },
     "execution_count": 17,
     "metadata": {},
     "output_type": "execute_result"
    }
   ],
   "source": [
    "house_model.fit(train_X, train_y)"
   ]
  },
  {
   "cell_type": "code",
   "execution_count": 19,
   "id": "c9069bd4",
   "metadata": {},
   "outputs": [
    {
     "name": "stdout",
     "output_type": "stream",
     "text": [
      "Making predictions for the following 5 houses:\n",
      "   Propertycount  Postcode  Distance\n",
      "0           4019      3067       3.0\n",
      "1           4019      3067       3.0\n",
      "2           4019      3067       3.0\n",
      "3           1543      3040       7.5\n",
      "4           3464      3042      10.4\n",
      "The predictions are\n",
      "[2.40277778 2.40277778 2.40277778 3.24444444 2.99462366]\n"
     ]
    }
   ],
   "source": [
    "print(\"Making predictions for the following 5 houses:\")\n",
    "print(X.head())\n",
    "print(\"The predictions are\")\n",
    "print(house_model.predict(X.head()))"
   ]
  },
  {
   "cell_type": "code",
   "execution_count": 20,
   "id": "ce7de88d",
   "metadata": {},
   "outputs": [
    {
     "data": {
      "text/plain": [
       "0    3\n",
       "1    3\n",
       "2    3\n",
       "3    3\n",
       "4    2\n",
       "Name: Rooms, dtype: int64"
      ]
     },
     "execution_count": 20,
     "metadata": {},
     "output_type": "execute_result"
    }
   ],
   "source": [
    "y.head()"
   ]
  },
  {
   "cell_type": "code",
   "execution_count": null,
   "id": "10dc9b23",
   "metadata": {},
   "outputs": [],
   "source": []
  },
  {
   "cell_type": "code",
   "execution_count": null,
   "id": "b4c1bf69",
   "metadata": {},
   "outputs": [],
   "source": []
  },
  {
   "cell_type": "code",
   "execution_count": 22,
   "id": "2199f403",
   "metadata": {},
   "outputs": [],
   "source": [
    "from sklearn.metrics import mean_absolute_error"
   ]
  },
  {
   "cell_type": "code",
   "execution_count": 34,
   "id": "c6874c4b",
   "metadata": {},
   "outputs": [],
   "source": [
    "predicted_room = house_model.predict(X)"
   ]
  },
  {
   "cell_type": "code",
   "execution_count": 36,
   "id": "1b5cf809",
   "metadata": {},
   "outputs": [
    {
     "data": {
      "text/plain": [
       "array([2.40277778, 2.40277778, 2.40277778, ..., 3.54773869, 3.032     ,\n",
       "       3.72222222])"
      ]
     },
     "execution_count": 36,
     "metadata": {},
     "output_type": "execute_result"
    }
   ],
   "source": [
    "predicted_room"
   ]
  },
  {
   "cell_type": "code",
   "execution_count": 35,
   "id": "47e90c44",
   "metadata": {},
   "outputs": [],
   "source": [
    "mae = mean_absolute_error(y, predicted_room)"
   ]
  },
  {
   "cell_type": "code",
   "execution_count": 25,
   "id": "5c2cc54e",
   "metadata": {},
   "outputs": [
    {
     "data": {
      "text/plain": [
       "0.6564868696725765"
      ]
     },
     "execution_count": 25,
     "metadata": {},
     "output_type": "execute_result"
    }
   ],
   "source": [
    "mae"
   ]
  },
  {
   "cell_type": "code",
   "execution_count": null,
   "id": "ec3979f0",
   "metadata": {},
   "outputs": [],
   "source": []
  },
  {
   "cell_type": "code",
   "execution_count": null,
   "id": "30d05451",
   "metadata": {},
   "outputs": [],
   "source": []
  },
  {
   "cell_type": "code",
   "execution_count": 27,
   "id": "625a6fa9",
   "metadata": {},
   "outputs": [],
   "source": [
    "from sklearn.ensemble import RandomForestRegressor"
   ]
  },
  {
   "cell_type": "code",
   "execution_count": 28,
   "id": "66e7464a",
   "metadata": {},
   "outputs": [],
   "source": [
    "forest_model = RandomForestRegressor(random_state = 1)"
   ]
  },
  {
   "cell_type": "code",
   "execution_count": 29,
   "id": "d8bd96aa",
   "metadata": {},
   "outputs": [
    {
     "data": {
      "text/plain": [
       "RandomForestRegressor(random_state=1)"
      ]
     },
     "execution_count": 29,
     "metadata": {},
     "output_type": "execute_result"
    }
   ],
   "source": [
    "forest_model.fit(train_X, train_y)"
   ]
  },
  {
   "cell_type": "code",
   "execution_count": 41,
   "id": "f7799b94",
   "metadata": {},
   "outputs": [],
   "source": [
    "room_predict = forest_model.predict(X)"
   ]
  },
  {
   "cell_type": "code",
   "execution_count": 42,
   "id": "563bb337",
   "metadata": {},
   "outputs": [
    {
     "name": "stdout",
     "output_type": "stream",
     "text": [
      "0.6564883678568137\n"
     ]
    }
   ],
   "source": [
    "print(mean_absolute_error(y, room_predict))"
   ]
  },
  {
   "cell_type": "code",
   "execution_count": null,
   "id": "a67ad3e9",
   "metadata": {},
   "outputs": [],
   "source": []
  },
  {
   "cell_type": "code",
   "execution_count": null,
   "id": "c582eb82",
   "metadata": {},
   "outputs": [],
   "source": []
  },
  {
   "cell_type": "code",
   "execution_count": 45,
   "id": "79a7fffe",
   "metadata": {},
   "outputs": [
    {
     "data": {
      "text/html": [
       "<div>\n",
       "<style scoped>\n",
       "    .dataframe tbody tr th:only-of-type {\n",
       "        vertical-align: middle;\n",
       "    }\n",
       "\n",
       "    .dataframe tbody tr th {\n",
       "        vertical-align: top;\n",
       "    }\n",
       "\n",
       "    .dataframe thead th {\n",
       "        text-align: right;\n",
       "    }\n",
       "</style>\n",
       "<table border=\"1\" class=\"dataframe\">\n",
       "  <thead>\n",
       "    <tr style=\"text-align: right;\">\n",
       "      <th></th>\n",
       "      <th>Suburb</th>\n",
       "      <th>Address</th>\n",
       "      <th>Rooms</th>\n",
       "      <th>Type</th>\n",
       "      <th>Price</th>\n",
       "      <th>Method</th>\n",
       "      <th>SellerG</th>\n",
       "      <th>Date</th>\n",
       "      <th>Postcode</th>\n",
       "      <th>Regionname</th>\n",
       "      <th>Propertycount</th>\n",
       "      <th>Distance</th>\n",
       "      <th>CouncilArea</th>\n",
       "    </tr>\n",
       "  </thead>\n",
       "  <tbody>\n",
       "    <tr>\n",
       "      <th>0</th>\n",
       "      <td>Abbotsford</td>\n",
       "      <td>49 Lithgow St</td>\n",
       "      <td>3</td>\n",
       "      <td>h</td>\n",
       "      <td>1490000.0</td>\n",
       "      <td>S</td>\n",
       "      <td>Jellis</td>\n",
       "      <td>1/04/2017</td>\n",
       "      <td>3067</td>\n",
       "      <td>Northern Metropolitan</td>\n",
       "      <td>4019</td>\n",
       "      <td>3.0</td>\n",
       "      <td>Yarra City Council</td>\n",
       "    </tr>\n",
       "    <tr>\n",
       "      <th>1</th>\n",
       "      <td>Abbotsford</td>\n",
       "      <td>59A Turner St</td>\n",
       "      <td>3</td>\n",
       "      <td>h</td>\n",
       "      <td>1220000.0</td>\n",
       "      <td>S</td>\n",
       "      <td>Marshall</td>\n",
       "      <td>1/04/2017</td>\n",
       "      <td>3067</td>\n",
       "      <td>Northern Metropolitan</td>\n",
       "      <td>4019</td>\n",
       "      <td>3.0</td>\n",
       "      <td>Yarra City Council</td>\n",
       "    </tr>\n",
       "    <tr>\n",
       "      <th>2</th>\n",
       "      <td>Abbotsford</td>\n",
       "      <td>119B Yarra St</td>\n",
       "      <td>3</td>\n",
       "      <td>h</td>\n",
       "      <td>1420000.0</td>\n",
       "      <td>S</td>\n",
       "      <td>Nelson</td>\n",
       "      <td>1/04/2017</td>\n",
       "      <td>3067</td>\n",
       "      <td>Northern Metropolitan</td>\n",
       "      <td>4019</td>\n",
       "      <td>3.0</td>\n",
       "      <td>Yarra City Council</td>\n",
       "    </tr>\n",
       "    <tr>\n",
       "      <th>3</th>\n",
       "      <td>Aberfeldie</td>\n",
       "      <td>68 Vida St</td>\n",
       "      <td>3</td>\n",
       "      <td>h</td>\n",
       "      <td>1515000.0</td>\n",
       "      <td>S</td>\n",
       "      <td>Barry</td>\n",
       "      <td>1/04/2017</td>\n",
       "      <td>3040</td>\n",
       "      <td>Western Metropolitan</td>\n",
       "      <td>1543</td>\n",
       "      <td>7.5</td>\n",
       "      <td>Moonee Valley City Council</td>\n",
       "    </tr>\n",
       "    <tr>\n",
       "      <th>4</th>\n",
       "      <td>Airport West</td>\n",
       "      <td>92 Clydesdale Rd</td>\n",
       "      <td>2</td>\n",
       "      <td>h</td>\n",
       "      <td>670000.0</td>\n",
       "      <td>S</td>\n",
       "      <td>Nelson</td>\n",
       "      <td>1/04/2017</td>\n",
       "      <td>3042</td>\n",
       "      <td>Western Metropolitan</td>\n",
       "      <td>3464</td>\n",
       "      <td>10.4</td>\n",
       "      <td>Moonee Valley City Council</td>\n",
       "    </tr>\n",
       "  </tbody>\n",
       "</table>\n",
       "</div>"
      ],
      "text/plain": [
       "         Suburb           Address  Rooms Type      Price Method   SellerG  \\\n",
       "0    Abbotsford     49 Lithgow St      3    h  1490000.0      S    Jellis   \n",
       "1    Abbotsford     59A Turner St      3    h  1220000.0      S  Marshall   \n",
       "2    Abbotsford     119B Yarra St      3    h  1420000.0      S    Nelson   \n",
       "3    Aberfeldie        68 Vida St      3    h  1515000.0      S     Barry   \n",
       "4  Airport West  92 Clydesdale Rd      2    h   670000.0      S    Nelson   \n",
       "\n",
       "        Date  Postcode             Regionname  Propertycount  Distance  \\\n",
       "0  1/04/2017      3067  Northern Metropolitan           4019       3.0   \n",
       "1  1/04/2017      3067  Northern Metropolitan           4019       3.0   \n",
       "2  1/04/2017      3067  Northern Metropolitan           4019       3.0   \n",
       "3  1/04/2017      3040   Western Metropolitan           1543       7.5   \n",
       "4  1/04/2017      3042   Western Metropolitan           3464      10.4   \n",
       "\n",
       "                  CouncilArea  \n",
       "0          Yarra City Council  \n",
       "1          Yarra City Council  \n",
       "2          Yarra City Council  \n",
       "3  Moonee Valley City Council  \n",
       "4  Moonee Valley City Council  "
      ]
     },
     "execution_count": 45,
     "metadata": {},
     "output_type": "execute_result"
    }
   ],
   "source": [
    "home_data.head()"
   ]
  },
  {
   "cell_type": "code",
   "execution_count": 54,
   "id": "7a05d91b",
   "metadata": {},
   "outputs": [],
   "source": [
    "a = home_data['Price']/1000"
   ]
  },
  {
   "cell_type": "code",
   "execution_count": 55,
   "id": "240588cc",
   "metadata": {},
   "outputs": [
    {
     "data": {
      "text/plain": [
       "0    1490.0\n",
       "1    1220.0\n",
       "2    1420.0\n",
       "3    1515.0\n",
       "4     670.0\n",
       "Name: Price, dtype: float64"
      ]
     },
     "execution_count": 55,
     "metadata": {},
     "output_type": "execute_result"
    }
   ],
   "source": [
    "a.head()"
   ]
  },
  {
   "cell_type": "code",
   "execution_count": 57,
   "id": "a635a70b",
   "metadata": {},
   "outputs": [
    {
     "data": {
      "text/plain": [
       "count    48433.000000\n",
       "mean       997.898241\n",
       "std        593.498919\n",
       "min         85.000000\n",
       "25%        620.000000\n",
       "50%        830.000000\n",
       "75%       1220.000000\n",
       "max      11200.000000\n",
       "Name: Price, dtype: float64"
      ]
     },
     "execution_count": 57,
     "metadata": {},
     "output_type": "execute_result"
    }
   ],
   "source": [
    "a.describe()"
   ]
  },
  {
   "cell_type": "code",
   "execution_count": 62,
   "id": "2d6e73d1",
   "metadata": {},
   "outputs": [
    {
     "data": {
      "text/plain": [
       "0        1490.0\n",
       "1        1220.0\n",
       "2        1420.0\n",
       "3        1515.0\n",
       "4         670.0\n",
       "          ...  \n",
       "63018     566.0\n",
       "63019     500.0\n",
       "63020     545.0\n",
       "63021     545.0\n",
       "63022     545.0\n",
       "Name: Price, Length: 63023, dtype: float64"
      ]
     },
     "execution_count": 62,
     "metadata": {},
     "output_type": "execute_result"
    }
   ],
   "source": [
    "a.fillna(method='ffill')"
   ]
  },
  {
   "cell_type": "code",
   "execution_count": 96,
   "id": "ca6885bf",
   "metadata": {},
   "outputs": [
    {
     "data": {
      "text/plain": [
       "(63023, 4)"
      ]
     },
     "execution_count": 96,
     "metadata": {},
     "output_type": "execute_result"
    }
   ],
   "source": [
    "feat = ['Propertycount','Postcode','Distance','Rooms']\n",
    "z = home_data[feat]\n",
    "z.head()\n",
    "z.shape"
   ]
  },
  {
   "cell_type": "code",
   "execution_count": 100,
   "id": "371a8fbb",
   "metadata": {},
   "outputs": [
    {
     "data": {
      "text/plain": [
       "Propertycount    int64\n",
       "Postcode         int64\n",
       "Distance         int64\n",
       "Rooms            int64\n",
       "dtype: object"
      ]
     },
     "execution_count": 100,
     "metadata": {},
     "output_type": "execute_result"
    }
   ],
   "source": [
    "z.astype(int).dtypes"
   ]
  },
  {
   "cell_type": "code",
   "execution_count": 81,
   "id": "bb4c7a1f",
   "metadata": {},
   "outputs": [
    {
     "data": {
      "text/html": [
       "<div>\n",
       "<style scoped>\n",
       "    .dataframe tbody tr th:only-of-type {\n",
       "        vertical-align: middle;\n",
       "    }\n",
       "\n",
       "    .dataframe tbody tr th {\n",
       "        vertical-align: top;\n",
       "    }\n",
       "\n",
       "    .dataframe thead th {\n",
       "        text-align: right;\n",
       "    }\n",
       "</style>\n",
       "<table border=\"1\" class=\"dataframe\">\n",
       "  <thead>\n",
       "    <tr style=\"text-align: right;\">\n",
       "      <th></th>\n",
       "      <th>Propertycount</th>\n",
       "      <th>Postcode</th>\n",
       "      <th>Distance</th>\n",
       "      <th>Rooms</th>\n",
       "    </tr>\n",
       "  </thead>\n",
       "  <tbody>\n",
       "    <tr>\n",
       "      <th>0</th>\n",
       "      <td>4019</td>\n",
       "      <td>3067</td>\n",
       "      <td>3.0</td>\n",
       "      <td>3</td>\n",
       "    </tr>\n",
       "    <tr>\n",
       "      <th>1</th>\n",
       "      <td>4019</td>\n",
       "      <td>3067</td>\n",
       "      <td>3.0</td>\n",
       "      <td>3</td>\n",
       "    </tr>\n",
       "    <tr>\n",
       "      <th>2</th>\n",
       "      <td>4019</td>\n",
       "      <td>3067</td>\n",
       "      <td>3.0</td>\n",
       "      <td>3</td>\n",
       "    </tr>\n",
       "    <tr>\n",
       "      <th>3</th>\n",
       "      <td>1543</td>\n",
       "      <td>3040</td>\n",
       "      <td>7.5</td>\n",
       "      <td>3</td>\n",
       "    </tr>\n",
       "    <tr>\n",
       "      <th>4</th>\n",
       "      <td>3464</td>\n",
       "      <td>3042</td>\n",
       "      <td>10.4</td>\n",
       "      <td>2</td>\n",
       "    </tr>\n",
       "    <tr>\n",
       "      <th>...</th>\n",
       "      <td>...</td>\n",
       "      <td>...</td>\n",
       "      <td>...</td>\n",
       "      <td>...</td>\n",
       "    </tr>\n",
       "    <tr>\n",
       "      <th>63018</th>\n",
       "      <td>5833</td>\n",
       "      <td>3064</td>\n",
       "      <td>20.6</td>\n",
       "      <td>3</td>\n",
       "    </tr>\n",
       "    <tr>\n",
       "      <th>63019</th>\n",
       "      <td>5833</td>\n",
       "      <td>3064</td>\n",
       "      <td>20.6</td>\n",
       "      <td>3</td>\n",
       "    </tr>\n",
       "    <tr>\n",
       "      <th>63020</th>\n",
       "      <td>5833</td>\n",
       "      <td>3064</td>\n",
       "      <td>20.6</td>\n",
       "      <td>3</td>\n",
       "    </tr>\n",
       "    <tr>\n",
       "      <th>63021</th>\n",
       "      <td>7955</td>\n",
       "      <td>3074</td>\n",
       "      <td>15.3</td>\n",
       "      <td>3</td>\n",
       "    </tr>\n",
       "    <tr>\n",
       "      <th>63022</th>\n",
       "      <td>1999</td>\n",
       "      <td>3027</td>\n",
       "      <td>17.6</td>\n",
       "      <td>4</td>\n",
       "    </tr>\n",
       "  </tbody>\n",
       "</table>\n",
       "<p>63023 rows × 4 columns</p>\n",
       "</div>"
      ],
      "text/plain": [
       "       Propertycount  Postcode  Distance  Rooms\n",
       "0               4019      3067       3.0      3\n",
       "1               4019      3067       3.0      3\n",
       "2               4019      3067       3.0      3\n",
       "3               1543      3040       7.5      3\n",
       "4               3464      3042      10.4      2\n",
       "...              ...       ...       ...    ...\n",
       "63018           5833      3064      20.6      3\n",
       "63019           5833      3064      20.6      3\n",
       "63020           5833      3064      20.6      3\n",
       "63021           7955      3074      15.3      3\n",
       "63022           1999      3027      17.6      4\n",
       "\n",
       "[63023 rows x 4 columns]"
      ]
     },
     "execution_count": 81,
     "metadata": {},
     "output_type": "execute_result"
    }
   ],
   "source": [
    "z.replace([np.inf, -np.inf], np.nan).dropna(axis=0)"
   ]
  },
  {
   "cell_type": "code",
   "execution_count": 116,
   "id": "c3703787",
   "metadata": {},
   "outputs": [],
   "source": [
    "train_z, test_z, train_a, test_a = train_test_split(z, a, random_state = 1)"
   ]
  },
  {
   "cell_type": "code",
   "execution_count": 117,
   "id": "6193c0f3",
   "metadata": {},
   "outputs": [],
   "source": [
    "price_model = DecisionTreeRegressor(random_state = 1)"
   ]
  },
  {
   "cell_type": "code",
   "execution_count": 118,
   "id": "3a0da79f",
   "metadata": {},
   "outputs": [
    {
     "data": {
      "text/plain": [
       "DecisionTreeRegressor(random_state=1)"
      ]
     },
     "execution_count": 118,
     "metadata": {},
     "output_type": "execute_result"
    }
   ],
   "source": [
    "\n",
    "price_model.fit(train_z, train_a)"
   ]
  },
  {
   "cell_type": "code",
   "execution_count": 120,
   "id": "8d0906af",
   "metadata": {},
   "outputs": [
    {
     "name": "stdout",
     "output_type": "stream",
     "text": [
      "Making predictions for the following 5 houses:\n",
      "   Propertycount  Postcode  Distance  Rooms\n",
      "0           4019      3067       3.0      3\n",
      "1           4019      3067       3.0      3\n",
      "2           4019      3067       3.0      3\n",
      "3           1543      3040       7.5      3\n",
      "4           3464      3042      10.4      2\n",
      "The predictions are\n",
      "[1031361.11111111 1031361.11111111 1031361.11111111 1187338.70967742\n",
      "  525250.        ]\n"
     ]
    }
   ],
   "source": [
    "print(\"Making predictions for the following 5 houses:\")\n",
    "print(z.head())\n",
    "print(\"The predictions are\")\n",
    "print(price_model.predict(z.head()))"
   ]
  },
  {
   "cell_type": "code",
   "execution_count": 123,
   "id": "3d6fe551",
   "metadata": {},
   "outputs": [],
   "source": [
    "from sklearn.metrics import mean_absolute_error"
   ]
  },
  {
   "cell_type": "code",
   "execution_count": 124,
   "id": "40728965",
   "metadata": {},
   "outputs": [],
   "source": [
    "predicted_price = price_model.predict(z)"
   ]
  },
  {
   "cell_type": "code",
   "execution_count": 125,
   "id": "d585edbc",
   "metadata": {},
   "outputs": [
    {
     "data": {
      "text/plain": [
       "array([1031361.11111111, 1031361.11111111, 1031361.11111111, ...,\n",
       "        417501.07526882,  497595.09202454,  519227.27272727])"
      ]
     },
     "execution_count": 125,
     "metadata": {},
     "output_type": "execute_result"
    }
   ],
   "source": [
    "predicted_price"
   ]
  },
  {
   "cell_type": "code",
   "execution_count": 126,
   "id": "88a35355",
   "metadata": {},
   "outputs": [],
   "source": [
    "mae = mean_absolute_error(a, predicted_price)"
   ]
  },
  {
   "cell_type": "code",
   "execution_count": 127,
   "id": "eaffde3d",
   "metadata": {},
   "outputs": [
    {
     "data": {
      "text/plain": [
       "397682.2983153726"
      ]
     },
     "execution_count": 127,
     "metadata": {},
     "output_type": "execute_result"
    }
   ],
   "source": [
    "mae"
   ]
  },
  {
   "cell_type": "markdown",
   "id": "50549a6a",
   "metadata": {},
   "source": []
  },
  {
   "cell_type": "code",
   "execution_count": null,
   "id": "b1e87530",
   "metadata": {},
   "outputs": [],
   "source": []
  },
  {
   "cell_type": "code",
   "execution_count": null,
   "id": "6a062408",
   "metadata": {},
   "outputs": [],
   "source": []
  },
  {
   "cell_type": "code",
   "execution_count": null,
   "id": "365d6760",
   "metadata": {},
   "outputs": [],
   "source": []
  },
  {
   "cell_type": "code",
   "execution_count": 128,
   "id": "f404c9a1",
   "metadata": {},
   "outputs": [
    {
     "data": {
      "text/plain": [
       "RandomForestRegressor(random_state=1)"
      ]
     },
     "execution_count": 128,
     "metadata": {},
     "output_type": "execute_result"
    }
   ],
   "source": [
    "from sklearn.ensemble import RandomForestRegressor\n",
    "forest_model = RandomForestRegressor(random_state = 1)\n",
    "forest_model.fit(train_z, train_a)"
   ]
  },
  {
   "cell_type": "code",
   "execution_count": 129,
   "id": "5a3d5c25",
   "metadata": {},
   "outputs": [],
   "source": [
    "room_predict = forest_model.predict(z)"
   ]
  },
  {
   "cell_type": "code",
   "execution_count": 130,
   "id": "8a86ac0d",
   "metadata": {},
   "outputs": [
    {
     "name": "stdout",
     "output_type": "stream",
     "text": [
      "398612.5296384423\n"
     ]
    }
   ],
   "source": [
    "print(mean_absolute_error(a, room_predict))"
   ]
  },
  {
   "cell_type": "code",
   "execution_count": null,
   "id": "2b1da97f",
   "metadata": {},
   "outputs": [],
   "source": []
  },
  {
   "cell_type": "code",
   "execution_count": null,
   "id": "7e4ee8d3",
   "metadata": {},
   "outputs": [],
   "source": []
  },
  {
   "cell_type": "code",
   "execution_count": null,
   "id": "8bac17ed",
   "metadata": {},
   "outputs": [],
   "source": []
  },
  {
   "cell_type": "code",
   "execution_count": null,
   "id": "6fc5e9e0",
   "metadata": {},
   "outputs": [],
   "source": []
  },
  {
   "cell_type": "code",
   "execution_count": 65,
   "id": "3825aa41",
   "metadata": {},
   "outputs": [
    {
     "data": {
      "text/plain": [
       "0         True\n",
       "1         True\n",
       "2         True\n",
       "3         True\n",
       "4         True\n",
       "         ...  \n",
       "63018     True\n",
       "63019     True\n",
       "63020     True\n",
       "63021    False\n",
       "63022    False\n",
       "Name: Price, Length: 63023, dtype: bool"
      ]
     },
     "execution_count": 65,
     "metadata": {},
     "output_type": "execute_result"
    }
   ],
   "source": [
    "np.isfinite(a)"
   ]
  },
  {
   "cell_type": "code",
   "execution_count": 109,
   "id": "69adeb17",
   "metadata": {},
   "outputs": [
    {
     "data": {
      "text/plain": [
       "0        1490000.0\n",
       "1        1220000.0\n",
       "2        1420000.0\n",
       "3        1515000.0\n",
       "4         670000.0\n",
       "           ...    \n",
       "63016     347700.0\n",
       "63017     808000.0\n",
       "63018     566000.0\n",
       "63019     500000.0\n",
       "63020     545000.0\n",
       "Name: Price, Length: 48433, dtype: float64"
      ]
     },
     "execution_count": 109,
     "metadata": {},
     "output_type": "execute_result"
    }
   ],
   "source": [
    "a.replace([np.inf, -np.inf], np.nan).dropna()"
   ]
  },
  {
   "cell_type": "code",
   "execution_count": null,
   "id": "8a0c9a9a",
   "metadata": {},
   "outputs": [],
   "source": []
  }
 ],
 "metadata": {
  "kernelspec": {
   "display_name": "Python 3",
   "language": "python",
   "name": "python3"
  },
  "language_info": {
   "codemirror_mode": {
    "name": "ipython",
    "version": 3
   },
   "file_extension": ".py",
   "mimetype": "text/x-python",
   "name": "python",
   "nbconvert_exporter": "python",
   "pygments_lexer": "ipython3",
   "version": "3.8.8"
  }
 },
 "nbformat": 4,
 "nbformat_minor": 5
}
